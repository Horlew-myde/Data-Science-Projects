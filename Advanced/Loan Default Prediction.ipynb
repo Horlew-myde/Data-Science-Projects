{
 "cells": [
  {
   "cell_type": "code",
   "execution_count": 1,
   "id": "5da71339-b761-42fb-aead-e3e2033b7880",
   "metadata": {},
   "outputs": [],
   "source": [
    "import pandas as pd\n",
    "import numpy as np\n",
    "import matplotlib.pyplot as plt\n",
    "import seaborn as sns"
   ]
  },
  {
   "cell_type": "code",
   "execution_count": 5,
   "id": "21994229-5500-46a6-be11-bf8d0a3f109f",
   "metadata": {},
   "outputs": [],
   "source": [
    "# Load the training data\n",
    "df_path = 'data_files/Loan Prediction Problem Dataset train.csv'\n",
    "df = pd.read_csv(df_path )\n",
    "    "
   ]
  },
  {
   "cell_type": "code",
   "execution_count": 7,
   "id": "c84edcd6-1029-47c9-aca7-8f6e62eb99b8",
   "metadata": {},
   "outputs": [
    {
     "name": "stdout",
     "output_type": "stream",
     "text": [
      "--- First 5 Rows ---\n",
      "    Loan_ID Gender Married Dependents     Education Self_Employed  \\\n",
      "0  LP001002   Male      No          0      Graduate            No   \n",
      "1  LP001003   Male     Yes          1      Graduate            No   \n",
      "2  LP001005   Male     Yes          0      Graduate           Yes   \n",
      "3  LP001006   Male     Yes          0  Not Graduate            No   \n",
      "4  LP001008   Male      No          0      Graduate            No   \n",
      "\n",
      "   ApplicantIncome  CoapplicantIncome  LoanAmount  Loan_Amount_Term  \\\n",
      "0             5849                0.0         NaN             360.0   \n",
      "1             4583             1508.0       128.0             360.0   \n",
      "2             3000                0.0        66.0             360.0   \n",
      "3             2583             2358.0       120.0             360.0   \n",
      "4             6000                0.0       141.0             360.0   \n",
      "\n",
      "   Credit_History Property_Area Loan_Status  \n",
      "0             1.0         Urban           Y  \n",
      "1             1.0         Rural           N  \n",
      "2             1.0         Urban           Y  \n",
      "3             1.0         Urban           Y  \n",
      "4             1.0         Urban           Y  \n",
      "\n",
      "--- Data Info ---\n",
      "<class 'pandas.core.frame.DataFrame'>\n",
      "RangeIndex: 614 entries, 0 to 613\n",
      "Data columns (total 13 columns):\n",
      " #   Column             Non-Null Count  Dtype  \n",
      "---  ------             --------------  -----  \n",
      " 0   Loan_ID            614 non-null    object \n",
      " 1   Gender             601 non-null    object \n",
      " 2   Married            611 non-null    object \n",
      " 3   Dependents         599 non-null    object \n",
      " 4   Education          614 non-null    object \n",
      " 5   Self_Employed      582 non-null    object \n",
      " 6   ApplicantIncome    614 non-null    int64  \n",
      " 7   CoapplicantIncome  614 non-null    float64\n",
      " 8   LoanAmount         592 non-null    float64\n",
      " 9   Loan_Amount_Term   600 non-null    float64\n",
      " 10  Credit_History     564 non-null    float64\n",
      " 11  Property_Area      614 non-null    object \n",
      " 12  Loan_Status        614 non-null    object \n",
      "dtypes: float64(4), int64(1), object(8)\n",
      "memory usage: 62.5+ KB\n",
      "None\n"
     ]
    }
   ],
   "source": [
    "if not df.empty:\n",
    "    print(\"--- First 5 Rows ---\")\n",
    "    print(df.head())\n",
    "    \n",
    "    print(\"\\n--- Data Info ---\")\n",
    "    print(df.info())"
   ]
  },
  {
   "cell_type": "code",
   "execution_count": 11,
   "id": "0a19218a-6834-4f7d-a8ce-db32e485d5e0",
   "metadata": {},
   "outputs": [
    {
     "name": "stdout",
     "output_type": "stream",
     "text": [
      "\n",
      "--- Missing Values Count ---\n",
      "Loan_ID               0\n",
      "Gender               13\n",
      "Married               3\n",
      "Dependents           15\n",
      "Education             0\n",
      "Self_Employed        32\n",
      "ApplicantIncome       0\n",
      "CoapplicantIncome     0\n",
      "LoanAmount           22\n",
      "Loan_Amount_Term     14\n",
      "Credit_History       50\n",
      "Property_Area         0\n",
      "Loan_Status           0\n",
      "dtype: int64\n"
     ]
    }
   ],
   "source": [
    " # --- Check for Missing Data ---\n",
    "print(\"\\n--- Missing Values Count ---\")\n",
    "print(df.isnull().sum())"
   ]
  },
  {
   "cell_type": "code",
   "execution_count": null,
   "id": "dbd69209-8941-415f-ac90-71bdfa3ef030",
   "metadata": {},
   "outputs": [],
   "source": []
  },
  {
   "cell_type": "markdown",
   "id": "ef604268-4015-4dad-8595-a6b93edb0ed1",
   "metadata": {},
   "source": [
    "##### Feature Engineering & Preprocessing"
   ]
  },
  {
   "cell_type": "code",
   "execution_count": 13,
   "id": "7679fd5d-a628-4c08-8aeb-fe19e5831ef6",
   "metadata": {},
   "outputs": [
    {
     "name": "stdout",
     "output_type": "stream",
     "text": [
      "\n",
      "--- Missing Values After Imputation ---\n",
      "Loan_ID              0\n",
      "Gender               0\n",
      "Married              0\n",
      "Dependents           0\n",
      "Education            0\n",
      "Self_Employed        0\n",
      "ApplicantIncome      0\n",
      "CoapplicantIncome    0\n",
      "LoanAmount           0\n",
      "Loan_Amount_Term     0\n",
      "Credit_History       0\n",
      "Property_Area        0\n",
      "Loan_Status          0\n",
      "dtype: int64\n",
      "\n",
      "--- Final DataFrame Head (After Encoding) ---\n",
      "   ApplicantIncome  CoapplicantIncome  LoanAmount  Loan_Amount_Term  \\\n",
      "0             5849                0.0       128.0             360.0   \n",
      "1             4583             1508.0       128.0             360.0   \n",
      "2             3000                0.0        66.0             360.0   \n",
      "3             2583             2358.0       120.0             360.0   \n",
      "4             6000                0.0       141.0             360.0   \n",
      "\n",
      "   Credit_History  Loan_Status  Total_Income  Gender_Male  Married_Yes  \\\n",
      "0             1.0            1        5849.0         True        False   \n",
      "1             1.0            0        6091.0         True         True   \n",
      "2             1.0            1        3000.0         True         True   \n",
      "3             1.0            1        4941.0         True         True   \n",
      "4             1.0            1        6000.0         True        False   \n",
      "\n",
      "   Dependents_1  Dependents_2  Dependents_3+  Education_Not Graduate  \\\n",
      "0         False         False          False                   False   \n",
      "1          True         False          False                   False   \n",
      "2         False         False          False                   False   \n",
      "3         False         False          False                    True   \n",
      "4         False         False          False                   False   \n",
      "\n",
      "   Self_Employed_Yes  Property_Area_Semiurban  Property_Area_Urban  \n",
      "0              False                    False                 True  \n",
      "1              False                    False                False  \n",
      "2               True                    False                 True  \n",
      "3              False                    False                 True  \n",
      "4              False                    False                 True  \n",
      "\n",
      "Final data shape: (614, 16)\n"
     ]
    }
   ],
   "source": [
    "if not df.empty:\n",
    "    # --- 1. Handle Target Variable (y) ---\n",
    "    # Convert Y/N to 1/0\n",
    "    df['Loan_Status'] = df['Loan_Status'].map({'Y': 1, 'N': 0})\n",
    "\n",
    "    # --- 2. Handle Missing Categorical Data (Imputation) ---\n",
    "    # We will fill with the 'mode' (most frequent value)\n",
    "    df['Gender'] = df['Gender'].fillna(df['Gender'].mode()[0])\n",
    "    df['Married'] = df['Married'].fillna(df['Married'].mode()[0])\n",
    "    df['Dependents'] = df['Dependents'].fillna(df['Dependents'].mode()[0])\n",
    "    df['Self_Employed'] = df['Self_Employed'].fillna(df['Self_Employed'].mode()[0])\n",
    "    \n",
    "    # Credit_History is critical. Most are 1.0, so we'll use mode.\n",
    "    df['Credit_History'] = df['Credit_History'].fillna(df['Credit_History'].mode()[0])\n",
    "    \n",
    "    # --- 3. Handle Missing Numerical Data (Imputation) ---\n",
    "    # We will fill with the 'median' (robust to outliers)\n",
    "    df['LoanAmount'] = df['LoanAmount'].fillna(df['LoanAmount'].median())\n",
    "    df['Loan_Amount_Term'] = df['Loan_Amount_Term'].fillna(df['Loan_Amount_Term'].median())\n",
    "\n",
    "    print(\"\\n--- Missing Values After Imputation ---\")\n",
    "    print(df.isnull().sum())\n",
    "    \n",
    "    # --- 4. Feature Creation (Optional, but good) ---\n",
    "    # Combine incomes to get a total income\n",
    "    df['Total_Income'] = df['ApplicantIncome'] + df['CoapplicantIncome']\n",
    "    \n",
    "    # --- 5. Categorical Encoding (One-Hot Encoding) ---\n",
    "    # We drop 'Loan_ID' as it's just an identifier\n",
    "    df = df.drop('Loan_ID', axis=1)\n",
    "    \n",
    "    # Use pandas.get_dummies to convert all 'object' columns\n",
    "    df_encoded = pd.get_dummies(df, drop_first=True)\n",
    "    \n",
    "    print(\"\\n--- Final DataFrame Head (After Encoding) ---\")\n",
    "    print(df_encoded.head())\n",
    "    print(f\"\\nFinal data shape: {df_encoded.shape}\")"
   ]
  },
  {
   "cell_type": "code",
   "execution_count": null,
   "id": "2ab5e9ab-20c6-48c1-9d28-092332641f48",
   "metadata": {},
   "outputs": [],
   "source": []
  },
  {
   "cell_type": "markdown",
   "id": "9481eee2-5ec4-4175-8b12-cf1636c45d8c",
   "metadata": {},
   "source": [
    "##### Model Building (Random Forest)"
   ]
  },
  {
   "cell_type": "code",
   "execution_count": 15,
   "id": "ff670e09-fc2c-4f12-a18c-c3d47ab02627",
   "metadata": {},
   "outputs": [],
   "source": [
    "from sklearn.model_selection import train_test_split\n",
    "from sklearn.preprocessing import StandardScaler\n",
    "from sklearn.ensemble import RandomForestClassifier\n",
    "from sklearn.metrics import classification_report, confusion_matrix, accuracy_score"
   ]
  },
  {
   "cell_type": "code",
   "execution_count": 16,
   "id": "e89a2427-8241-4134-a744-66d9195a4580",
   "metadata": {},
   "outputs": [
    {
     "name": "stdout",
     "output_type": "stream",
     "text": [
      "\n",
      "--- Training Random Forest Classifier ---\n",
      "Model training complete.\n"
     ]
    }
   ],
   "source": [
    "if 'df_encoded' in locals():\n",
    "    # 1. Define X and y\n",
    "    X = df_encoded.drop('Loan_Status', axis=1)\n",
    "    y = df_encoded['Loan_Status']\n",
    "    \n",
    "    # 2. Train-Test Split\n",
    "    X_train, X_test, y_train, y_test = train_test_split(X, y, test_size=0.2, random_state=42)\n",
    "    \n",
    "    # 3. Scale Numerical Features\n",
    "    # Note: RandomForest doesn't strictly need this, but\n",
    "    # Logistic Regression or SVM would. It's good practice.\n",
    "    scaler = StandardScaler()\n",
    "    \n",
    "    # Identify numerical columns to scale (Total_Income, ApplicantIncome, etc.)\n",
    "    # We'll just scale the ones we know are continuous\n",
    "    num_cols = ['ApplicantIncome', 'CoapplicantIncome', 'LoanAmount', 'Loan_Amount_Term', 'Total_Income']\n",
    "    \n",
    "    X_train[num_cols] = scaler.fit_transform(X_train[num_cols])\n",
    "    X_test[num_cols] = scaler.transform(X_test[num_cols])\n",
    "    \n",
    "    # 4. Train the Model\n",
    "    print(\"\\n--- Training Random Forest Classifier ---\")\n",
    "    model = RandomForestClassifier(n_estimators=100, random_state=42)\n",
    "    model.fit(X_train, y_train)\n",
    "    \n",
    "    print(\"Model training complete.\")"
   ]
  },
  {
   "cell_type": "markdown",
   "id": "0f0c4212-d129-4a48-9fb7-e78bbb39abaa",
   "metadata": {},
   "source": [
    "##### Model Evaluation"
   ]
  },
  {
   "cell_type": "code",
   "execution_count": 20,
   "id": "d83c7590-e6f5-4461-b66b-c520cd3cdd3e",
   "metadata": {},
   "outputs": [
    {
     "name": "stdout",
     "output_type": "stream",
     "text": [
      "\n",
      "--- Model Evaluation ---\n",
      "Accuracy: 78.86%\n",
      "\n",
      "Classification Report:\n",
      "              precision    recall  f1-score   support\n",
      "\n",
      "           0       0.90      0.44      0.59        43\n",
      "           1       0.76      0.97      0.86        80\n",
      "\n",
      "    accuracy                           0.79       123\n",
      "   macro avg       0.83      0.71      0.73       123\n",
      "weighted avg       0.81      0.79      0.77       123\n",
      "\n",
      "\n",
      "Confusion Matrix:\n"
     ]
    },
    {
     "data": {
      "image/png": "[encoded data removed]",
      "text/plain": [
       "<Figure size 640x480 with 2 Axes>"
      ]
     },
     "metadata": {},
     "output_type": "display_data"
    }
   ],
   "source": [
    "if 'model' in locals():\n",
    "    # 5. Make Predictions\n",
    "    y_pred = model.predict(X_test)\n",
    "    \n",
    "    # 6. Evaluate\n",
    "    print(\"\\n--- Model Evaluation ---\")\n",
    "    \n",
    "    # Check Accuracy\n",
    "    print(f\"Accuracy: {accuracy_score(y_test, y_pred) * 100:.2f}%\")\n",
    "    \n",
    "    # Check Classification Report (Precision, Recall, F1)\n",
    "    # Class 0 = 'N' (Rejected), Class 1 = 'Y' (Approved)\n",
    "    print(\"\\nClassification Report:\")\n",
    "    print(classification_report(y_test, y_pred))\n",
    "    \n",
    "    # Check Confusion Matrix\n",
    "    print(\"\\nConfusion Matrix:\")\n",
    "    cm = confusion_matrix(y_test, y_pred)\n",
    "    sns.heatmap(cm, annot=True, fmt='d', \n",
    "                xticklabels=['Rejected (0)', 'Approved (1)'], \n",
    "                yticklabels=['Rejected (0)', 'Approved (1)'])\n",
    "    plt.ylabel('Actual')\n",
    "    plt.xlabel('Predicted')\n",
    "    plt.title('Confusion Matrix')\n",
    "    plt.show()"
   ]
  },
  {
   "cell_type": "code",
   "execution_count": null,
   "id": "e1c21d53-a732-4221-ab20-2fb2479ae2e7",
   "metadata": {},
   "outputs": [],
   "source": []
  },
  {
   "cell_type": "code",
   "execution_count": null,
   "id": "a7c83d55-281c-4d13-b034-64b2fec806d7",
   "metadata": {},
   "outputs": [],
   "source": []
  },
  {
   "cell_type": "code",
   "execution_count": null,
   "id": "b34c2b4a-1f84-4fe5-8c75-9bbfced8a796",
   "metadata": {},
   "outputs": [],
   "source": []
  },
  {
   "cell_type": "code",
   "execution_count": null,
   "id": "c2c817f9-6002-43b1-8f16-90f7eb341921",
   "metadata": {},
   "outputs": [],
   "source": []
  },
  {
   "cell_type": "code",
   "execution_count": null,
   "id": "3e85a4e2-db77-47ef-8b7a-a179c5363b82",
   "metadata": {},
   "outputs": [],
   "source": []
  },
  {
   "cell_type": "code",
   "execution_count": null,
   "id": "6affe87a-f5b8-4eb3-ba8b-22034cc1c891",
   "metadata": {},
   "outputs": [],
   "source": []
  },
  {
   "cell_type": "code",
   "execution_count": null,
   "id": "d8fa4196-e895-46ea-9617-4be093ebbab6",
   "metadata": {},
   "outputs": [],
   "source": []
  }
 ],
 "metadata": {
  "kernelspec": {
   "display_name": "Python [conda env:base] *",
   "language": "python",
   "name": "conda-base-py"
  },
  "language_info": {
   "codemirror_mode": {
    "name": "ipython",
    "version": 3
   },
   "file_extension": ".py",
   "mimetype": "text/x-python",
   "name": "python",
   "nbconvert_exporter": "python",
   "pygments_lexer": "ipython3",
   "version": "3.12.3"
  }
 },
 "nbformat": 4,
 "nbformat_minor": 5
}
