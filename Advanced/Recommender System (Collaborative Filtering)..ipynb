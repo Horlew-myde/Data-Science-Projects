{
 "cells": [
  {
   "cell_type": "code",
   "execution_count": 5,
   "id": "b705628d-1f67-4cef-be9f-820715d7f92e",
   "metadata": {},
   "outputs": [],
   "source": [
    "# conda install scikit-surprise"
   ]
  },
  {
   "cell_type": "code",
   "execution_count": 27,
   "id": "85191b2e-fd19-4337-9d7a-b9f1891e7e87",
   "metadata": {},
   "outputs": [],
   "source": [
    "import pandas as pd\n",
    "from surprise import Reader, Dataset, SVD\n",
    "from surprise.model_selection import train_test_split\n",
    "from surprise import accuracy"
   ]
  },
  {
   "cell_type": "markdown",
   "id": "4dab4939-a34e-46f8-8039-56f52d39a534",
   "metadata": {},
   "source": [
    "##### Load and Prepare Data"
   ]
  },
  {
   "cell_type": "code",
   "execution_count": 29,
   "id": "624a278e-bc3e-4989-a0d3-179fb317397e",
   "metadata": {},
   "outputs": [],
   "source": [
    "# Load the movies dataset (to map movie IDs to titles)\n",
    "file_path = 'data_files/ml-latest-small/movies.csv'\n",
    "movies_df = pd.read_csv(file_path)\n",
    "\n",
    "# Load the ratings dataset\n",
    "ratings_path = 'data_files/ml-latest-small/ratings.csv'\n",
    "ratings_df = pd.read_csv(ratings_path)"
   ]
  },
  {
   "cell_type": "code",
   "execution_count": 31,
   "id": "ac57e125-1ea0-4e07-94ce-36b063dd996f",
   "metadata": {},
   "outputs": [
    {
     "data": {
      "text/html": [
       "<div>\n",
       "<style scoped>\n",
       "    .dataframe tbody tr th:only-of-type {\n",
       "        vertical-align: middle;\n",
       "    }\n",
       "\n",
       "    .dataframe tbody tr th {\n",
       "        vertical-align: top;\n",
       "    }\n",
       "\n",
       "    .dataframe thead th {\n",
       "        text-align: right;\n",
       "    }\n",
       "</style>\n",
       "<table border=\"1\" class=\"dataframe\">\n",
       "  <thead>\n",
       "    <tr style=\"text-align: right;\">\n",
       "      <th></th>\n",
       "      <th>userId</th>\n",
       "      <th>movieId</th>\n",
       "      <th>rating</th>\n",
       "      <th>timestamp</th>\n",
       "    </tr>\n",
       "  </thead>\n",
       "  <tbody>\n",
       "    <tr>\n",
       "      <th>0</th>\n",
       "      <td>1</td>\n",
       "      <td>1</td>\n",
       "      <td>4.0</td>\n",
       "      <td>964982703</td>\n",
       "    </tr>\n",
       "    <tr>\n",
       "      <th>1</th>\n",
       "      <td>1</td>\n",
       "      <td>3</td>\n",
       "      <td>4.0</td>\n",
       "      <td>964981247</td>\n",
       "    </tr>\n",
       "    <tr>\n",
       "      <th>2</th>\n",
       "      <td>1</td>\n",
       "      <td>6</td>\n",
       "      <td>4.0</td>\n",
       "      <td>964982224</td>\n",
       "    </tr>\n",
       "    <tr>\n",
       "      <th>3</th>\n",
       "      <td>1</td>\n",
       "      <td>47</td>\n",
       "      <td>5.0</td>\n",
       "      <td>964983815</td>\n",
       "    </tr>\n",
       "    <tr>\n",
       "      <th>4</th>\n",
       "      <td>1</td>\n",
       "      <td>50</td>\n",
       "      <td>5.0</td>\n",
       "      <td>964982931</td>\n",
       "    </tr>\n",
       "  </tbody>\n",
       "</table>\n",
       "</div>"
      ],
      "text/plain": [
       "   userId  movieId  rating  timestamp\n",
       "0       1        1     4.0  964982703\n",
       "1       1        3     4.0  964981247\n",
       "2       1        6     4.0  964982224\n",
       "3       1       47     5.0  964983815\n",
       "4       1       50     5.0  964982931"
      ]
     },
     "execution_count": 31,
     "metadata": {},
     "output_type": "execute_result"
    }
   ],
   "source": [
    "ratings_df.head()"
   ]
  },
  {
   "cell_type": "code",
   "execution_count": 33,
   "id": "90559538-d135-4a22-94ef-6dfb01981278",
   "metadata": {},
   "outputs": [
    {
     "data": {
      "text/html": [
       "<div>\n",
       "<style scoped>\n",
       "    .dataframe tbody tr th:only-of-type {\n",
       "        vertical-align: middle;\n",
       "    }\n",
       "\n",
       "    .dataframe tbody tr th {\n",
       "        vertical-align: top;\n",
       "    }\n",
       "\n",
       "    .dataframe thead th {\n",
       "        text-align: right;\n",
       "    }\n",
       "</style>\n",
       "<table border=\"1\" class=\"dataframe\">\n",
       "  <thead>\n",
       "    <tr style=\"text-align: right;\">\n",
       "      <th></th>\n",
       "      <th>movieId</th>\n",
       "      <th>title</th>\n",
       "      <th>genres</th>\n",
       "    </tr>\n",
       "  </thead>\n",
       "  <tbody>\n",
       "    <tr>\n",
       "      <th>0</th>\n",
       "      <td>1</td>\n",
       "      <td>Toy Story (1995)</td>\n",
       "      <td>Adventure|Animation|Children|Comedy|Fantasy</td>\n",
       "    </tr>\n",
       "    <tr>\n",
       "      <th>1</th>\n",
       "      <td>2</td>\n",
       "      <td>Jumanji (1995)</td>\n",
       "      <td>Adventure|Children|Fantasy</td>\n",
       "    </tr>\n",
       "    <tr>\n",
       "      <th>2</th>\n",
       "      <td>3</td>\n",
       "      <td>Grumpier Old Men (1995)</td>\n",
       "      <td>Comedy|Romance</td>\n",
       "    </tr>\n",
       "    <tr>\n",
       "      <th>3</th>\n",
       "      <td>4</td>\n",
       "      <td>Waiting to Exhale (1995)</td>\n",
       "      <td>Comedy|Drama|Romance</td>\n",
       "    </tr>\n",
       "    <tr>\n",
       "      <th>4</th>\n",
       "      <td>5</td>\n",
       "      <td>Father of the Bride Part II (1995)</td>\n",
       "      <td>Comedy</td>\n",
       "    </tr>\n",
       "  </tbody>\n",
       "</table>\n",
       "</div>"
      ],
      "text/plain": [
       "   movieId                               title  \\\n",
       "0        1                    Toy Story (1995)   \n",
       "1        2                      Jumanji (1995)   \n",
       "2        3             Grumpier Old Men (1995)   \n",
       "3        4            Waiting to Exhale (1995)   \n",
       "4        5  Father of the Bride Part II (1995)   \n",
       "\n",
       "                                        genres  \n",
       "0  Adventure|Animation|Children|Comedy|Fantasy  \n",
       "1                   Adventure|Children|Fantasy  \n",
       "2                               Comedy|Romance  \n",
       "3                         Comedy|Drama|Romance  \n",
       "4                                       Comedy  "
      ]
     },
     "execution_count": 33,
     "metadata": {},
     "output_type": "execute_result"
    }
   ],
   "source": [
    "movies_df.head()"
   ]
  },
  {
   "cell_type": "code",
   "execution_count": 35,
   "id": "082e9e2e-bf47-4531-9404-00e2f606a428",
   "metadata": {},
   "outputs": [
    {
     "data": {
      "text/html": [
       "<div>\n",
       "<style scoped>\n",
       "    .dataframe tbody tr th:only-of-type {\n",
       "        vertical-align: middle;\n",
       "    }\n",
       "\n",
       "    .dataframe tbody tr th {\n",
       "        vertical-align: top;\n",
       "    }\n",
       "\n",
       "    .dataframe thead th {\n",
       "        text-align: right;\n",
       "    }\n",
       "</style>\n",
       "<table border=\"1\" class=\"dataframe\">\n",
       "  <thead>\n",
       "    <tr style=\"text-align: right;\">\n",
       "      <th></th>\n",
       "      <th>userId</th>\n",
       "      <th>movieId</th>\n",
       "      <th>rating</th>\n",
       "    </tr>\n",
       "  </thead>\n",
       "  <tbody>\n",
       "    <tr>\n",
       "      <th>0</th>\n",
       "      <td>1</td>\n",
       "      <td>1</td>\n",
       "      <td>4.0</td>\n",
       "    </tr>\n",
       "    <tr>\n",
       "      <th>1</th>\n",
       "      <td>1</td>\n",
       "      <td>3</td>\n",
       "      <td>4.0</td>\n",
       "    </tr>\n",
       "    <tr>\n",
       "      <th>2</th>\n",
       "      <td>1</td>\n",
       "      <td>6</td>\n",
       "      <td>4.0</td>\n",
       "    </tr>\n",
       "    <tr>\n",
       "      <th>3</th>\n",
       "      <td>1</td>\n",
       "      <td>47</td>\n",
       "      <td>5.0</td>\n",
       "    </tr>\n",
       "    <tr>\n",
       "      <th>4</th>\n",
       "      <td>1</td>\n",
       "      <td>50</td>\n",
       "      <td>5.0</td>\n",
       "    </tr>\n",
       "  </tbody>\n",
       "</table>\n",
       "</div>"
      ],
      "text/plain": [
       "   userId  movieId  rating\n",
       "0       1        1     4.0\n",
       "1       1        3     4.0\n",
       "2       1        6     4.0\n",
       "3       1       47     5.0\n",
       "4       1       50     5.0"
      ]
     },
     "execution_count": 35,
     "metadata": {},
     "output_type": "execute_result"
    }
   ],
   "source": [
    "# Drop the timestamp column - we don't need it for SVD\n",
    "ratings_df = ratings_df.drop('timestamp', axis=1)\n",
    "\n",
    "ratings_df.head()"
   ]
  },
  {
   "cell_type": "markdown",
   "id": "5151bfb4-30fb-463c-96b4-866562e81406",
   "metadata": {},
   "source": [
    "##### Prepare Data for surprise"
   ]
  },
  {
   "cell_type": "code",
   "execution_count": 37,
   "id": "0732fcf3-4eca-4012-ba18-759ca963354a",
   "metadata": {},
   "outputs": [
    {
     "name": "stdout",
     "output_type": "stream",
     "text": [
      "\n",
      "Data loaded into surprise format.\n"
     ]
    }
   ],
   "source": [
    "# The Reader object helps parse the file or dataframe\n",
    "# We need to specify the rating scale (MovieLens is 0.5 to 5)\n",
    "reader = Reader(rating_scale=(0.5, 5.0))\n",
    "\n",
    "# Load the dataset from the pandas dataframe\n",
    "# The columns must be in the order: user, item, rating\n",
    "data = Dataset.load_from_df(ratings_df[['userId', 'movieId', 'rating']], reader)\n",
    "\n",
    "print(\"\\nData loaded into surprise format.\")"
   ]
  },
  {
   "cell_type": "code",
   "execution_count": null,
   "id": "b4df9919-1aba-491a-99d5-2c316db56d47",
   "metadata": {},
   "outputs": [],
   "source": []
  },
  {
   "cell_type": "markdown",
   "id": "c76740f1-cf03-44fe-8b78-cc12f94e72f1",
   "metadata": {},
   "source": [
    "##### Train-Test Split and Model Training"
   ]
  },
  {
   "cell_type": "code",
   "execution_count": 42,
   "id": "bbcd053e-1001-4628-83f3-fc74ecbebad0",
   "metadata": {},
   "outputs": [],
   "source": [
    "# Split the data into training and testing sets\n",
    "# test_size=0.2 means 20% of the data is for testing\n",
    "trainset, testset = train_test_split(data, test_size=0.2, random_state=42)"
   ]
  },
  {
   "cell_type": "code",
   "execution_count": 44,
   "id": "0c38ab30-d0b4-4e40-a0a9-d9eb21d5c0e9",
   "metadata": {},
   "outputs": [
    {
     "name": "stdout",
     "output_type": "stream",
     "text": [
      "\n",
      "Training the SVD model...\n",
      "Training complete.\n"
     ]
    }
   ],
   "source": [
    "# --- Train the SVD Model ---\n",
    "# SVD is a Matrix Factorization algorithm (a form of collaborative filtering)\n",
    "print(\"\\nTraining the SVD model...\")\n",
    "model = SVD(n_factors=100, n_epochs=20, random_state=42)\n",
    "model.fit(trainset)\n",
    "\n",
    "print(\"Training complete.\")"
   ]
  },
  {
   "cell_type": "code",
   "execution_count": 46,
   "id": "4d70769c-bfd3-4563-a993-1dfe2fa8fad9",
   "metadata": {},
   "outputs": [
    {
     "name": "stdout",
     "output_type": "stream",
     "text": [
      "\n",
      "Evaluating model on the test set...\n"
     ]
    }
   ],
   "source": [
    "# --- Evaluate the Model on the Test Set ---\n",
    "print(\"\\nEvaluating model on the test set...\")\n",
    "predictions = model.test(testset)"
   ]
  },
  {
   "cell_type": "code",
   "execution_count": 48,
   "id": "8ee6e509-2953-4978-bc33-f13965fc61aa",
   "metadata": {},
   "outputs": [
    {
     "name": "stdout",
     "output_type": "stream",
     "text": [
      "RMSE: 0.8807\n",
      "Test Set RMSE: 0.8807462819979623\n"
     ]
    }
   ],
   "source": [
    "# Calculate RMSE (Root Mean Squared Error)\n",
    "# This measures the average magnitude of the error in our rating predictions\n",
    "rmse = accuracy.rmse(predictions)\n",
    "print(f\"Test Set RMSE: {rmse}\")"
   ]
  },
  {
   "cell_type": "markdown",
   "id": "26879d62-9530-4fd6-9d9e-aaaa6ad51e6d",
   "metadata": {},
   "source": [
    "##### An RMSE of ~0.87 means that, on average, our model's rating predictions are off by about 0.87 stars on a 5-star scale. This is quite good!"
   ]
  },
  {
   "cell_type": "code",
   "execution_count": null,
   "id": "e4b7ffdd-7e86-442a-b9ac-813887da57c9",
   "metadata": {},
   "outputs": [],
   "source": []
  },
  {
   "cell_type": "markdown",
   "id": "eabb399b-13c9-4b4d-b2d5-7c4882068216",
   "metadata": {},
   "source": [
    "##### Get Recommendations for a Specific User"
   ]
  },
  {
   "cell_type": "code",
   "execution_count": 54,
   "id": "9ce5fe7f-84db-4251-9d7e-e992c978f261",
   "metadata": {},
   "outputs": [
    {
     "name": "stdout",
     "output_type": "stream",
     "text": [
      "\n",
      "Predicting ratings for 9492 unrated movies for user 1...\n",
      "\n",
      "--- Top 10 Movie Recommendations for User 1 ---\n",
      "  - Movie: Departed, The (2006) (ID: 48516)\n",
      "    Predicted Rating: 5.00\n",
      "  - Movie: North by Northwest (1959) (ID: 908)\n",
      "    Predicted Rating: 5.00\n",
      "  - Movie: Casablanca (1942) (ID: 912)\n",
      "    Predicted Rating: 5.00\n",
      "  - Movie: Seven Samurai (Shichinin no samurai) (1954) (ID: 2019)\n",
      "    Predicted Rating: 5.00\n",
      "  - Movie: Dr. Strangelove or: How I Learned to Stop Worrying and Love the Bomb (1964) (ID: 750)\n",
      "    Predicted Rating: 5.00\n",
      "  - Movie: Lord of the Rings: The Return of the King, The (2003) (ID: 7153)\n",
      "    Predicted Rating: 5.00\n",
      "  - Movie: Blade Runner (1982) (ID: 541)\n",
      "    Predicted Rating: 5.00\n",
      "  - Movie: One Flew Over the Cuckoo's Nest (1975) (ID: 1193)\n",
      "    Predicted Rating: 5.00\n",
      "  - Movie: Grand Day Out with Wallace and Gromit, A (1989) (ID: 1223)\n",
      "    Predicted Rating: 5.00\n",
      "  - Movie: Lost in Translation (2003) (ID: 6711)\n",
      "    Predicted Rating: 5.00\n"
     ]
    }
   ],
   "source": [
    "import heapq\n",
    "from collections import defaultdict\n",
    "\n",
    "def get_top_n_recommendations(user_id, n=10):\n",
    "    \"\"\"\n",
    "    Get the top-N movie recommendations for a specific user.\n",
    "    \n",
    "    Args:\n",
    "        user_id (int): The user ID to get recommendations for.\n",
    "        n (int): The number of recommendations to return.\n",
    "        \n",
    "    Returns:\n",
    "        list: A list of (movie_id, predicted_rating) tuples.\n",
    "    \"\"\"\n",
    "    \n",
    "    # 1. Get a list of all movie IDs\n",
    "    all_movie_ids = ratings_df['movieId'].unique()\n",
    "    \n",
    "    # 2. Get a list of movie IDs that the user has already rated\n",
    "    rated_movie_ids = ratings_df[ratings_df['userId'] == user_id]['movieId'].unique()\n",
    "    \n",
    "    # 3. Get a list of movie IDs the user has NOT rated (the \"anti-testset\")\n",
    "    unrated_movie_ids = [movie_id for movie_id in all_movie_ids if movie_id not in rated_movie_ids]\n",
    "    \n",
    "    # 4. Predict ratings for all unrated movies\n",
    "    print(f\"\\nPredicting ratings for {len(unrated_movie_ids)} unrated movies for user {user_id}...\")\n",
    "    testset_for_user = [[user_id, movie_id, 4.0] for movie_id in unrated_movie_ids] # 4.0 is a dummy rating\n",
    "    \n",
    "    predictions = model.test(testset_for_user)\n",
    "    \n",
    "    # 5. Sort predictions and get the top N\n",
    "    top_n = []\n",
    "    for uid, iid, true_r, est, _ in predictions:\n",
    "        top_n.append((iid, est)) # Append (movieId, predicted_rating)\n",
    "        \n",
    "    # Sort by predicted rating (est) in descending order\n",
    "    top_n.sort(key=lambda x: x[1], reverse=True)\n",
    "    \n",
    "    return top_n[:n]\n",
    "\n",
    "# --- Get and Display Recommendations ---\n",
    "USER_TO_RECOMMEND = 1 # Example user\n",
    "top_10_recs = get_top_n_recommendations(user_id=USER_TO_RECOMMEND, n=10)\n",
    "\n",
    "print(f\"\\n--- Top 10 Movie Recommendations for User {USER_TO_RECOMMEND} ---\")\n",
    "\n",
    "for movie_id, pred_rating in top_10_recs:\n",
    "    # Get the movie title from the movies_df\n",
    "    movie_title = movies_df[movies_df['movieId'] == movie_id]['title'].values[0]\n",
    "    print(f\"  - Movie: {movie_title} (ID: {movie_id})\")\n",
    "    print(f\"    Predicted Rating: {pred_rating:.2f}\")"
   ]
  },
  {
   "cell_type": "code",
   "execution_count": null,
   "id": "fc2c8986-dfb7-4307-8a3b-46744c8ab438",
   "metadata": {},
   "outputs": [],
   "source": []
  }
 ],
 "metadata": {
  "kernelspec": {
   "display_name": "Python [conda env:base] *",
   "language": "python",
   "name": "conda-base-py"
  },
  "language_info": {
   "codemirror_mode": {
    "name": "ipython",
    "version": 3
   },
   "file_extension": ".py",
   "mimetype": "text/x-python",
   "name": "python",
   "nbconvert_exporter": "python",
   "pygments_lexer": "ipython3",
   "version": "3.12.7"
  }
 },
 "nbformat": 4,
 "nbformat_minor": 5
}
