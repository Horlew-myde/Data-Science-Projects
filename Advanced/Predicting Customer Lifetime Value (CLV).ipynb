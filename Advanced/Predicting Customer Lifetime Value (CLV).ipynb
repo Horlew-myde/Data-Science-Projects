{
 "cells": [
  {
   "cell_type": "code",
   "execution_count": 27,
   "id": "26eefb11-5134-4c9e-91d6-42a6f106f997",
   "metadata": {},
   "outputs": [],
   "source": [
    "# pip install xgboost"
   ]
  },
  {
   "cell_type": "code",
   "execution_count": 6,
   "id": "9c39fd4e-390d-49b9-8b4b-e9e9733173d7",
   "metadata": {},
   "outputs": [],
   "source": [
    "import pandas as pd\n",
    "import numpy as np\n",
    "import matplotlib.pyplot as plt\n",
    "import seaborn as sns\n",
    "from sklearn.model_selection import train_test_split\n",
    "from sklearn.preprocessing import StandardScaler\n",
    "from xgboost import XGBRegressor\n",
    "from sklearn.metrics import mean_squared_error, r2_score"
   ]
  },
  {
   "cell_type": "code",
   "execution_count": 8,
   "id": "ad8cf433-e576-4c7a-b982-7b72bd6248a6",
   "metadata": {},
   "outputs": [],
   "source": [
    "# Load the datasets\n",
    "customers_path = 'data_files/brazilian-ecommerce/olist_customers_dataset.csv'\n",
    "customers = pd.read_csv(customers_path)\n",
    "\n",
    "orders_path = 'data_files/brazilian-ecommerce/olist_orders_dataset.csv'\n",
    "orders = pd.read_csv(orders_path)\n",
    "\n",
    "order_items_path = 'data_files/brazilian-ecommerce/olist_order_items_dataset.csv'\n",
    "order_items = pd.read_csv(order_items_path)"
   ]
  },
  {
   "cell_type": "code",
   "execution_count": 10,
   "id": "04e98f98-d99a-473a-99f6-08161d36fb9a",
   "metadata": {},
   "outputs": [
    {
     "name": "stdout",
     "output_type": "stream",
     "text": [
      "Data merged. DataFrame shape: (112650, 18)\n",
      "                           order_id                       customer_id  \\\n",
      "0  e481f51cbdc54678b7cc49136f2d6af7  9ef432eb6251297304e76186b10a928d   \n",
      "1  53cdb2fc8bc7dce0b6741e2150273451  b0830fb4747a6c6d20dea0b8c802d7ef   \n",
      "2  47770eb9100c2d0c44946d9cf07ec65d  41ce2a54c0b03bf3443c3d931a367089   \n",
      "3  949d5b44dbf5de918fe9c16f97b45f8a  f88197465ea7920adcdbec7375364d82   \n",
      "4  ad21c59c0840e6cb83a9ceb5573f8159  8ab97904e6daea8866dbdbc4fb7aad2c   \n",
      "\n",
      "  order_status order_purchase_timestamp    order_approved_at  \\\n",
      "0    delivered      2017-10-02 10:56:33  2017-10-02 11:07:15   \n",
      "1    delivered      2018-07-24 20:41:37  2018-07-26 03:24:27   \n",
      "2    delivered      2018-08-08 08:38:49  2018-08-08 08:55:23   \n",
      "3    delivered      2017-11-18 19:28:06  2017-11-18 19:45:59   \n",
      "4    delivered      2018-02-13 21:18:39  2018-02-13 22:20:29   \n",
      "\n",
      "  order_delivered_carrier_date order_delivered_customer_date  \\\n",
      "0          2017-10-04 19:55:00           2017-10-10 21:25:13   \n",
      "1          2018-07-26 14:31:00           2018-08-07 15:27:45   \n",
      "2          2018-08-08 13:50:00           2018-08-17 18:06:29   \n",
      "3          2017-11-22 13:39:59           2017-12-02 00:28:42   \n",
      "4          2018-02-14 19:46:34           2018-02-16 18:17:02   \n",
      "\n",
      "  order_estimated_delivery_date                customer_unique_id  \\\n",
      "0           2017-10-18 00:00:00  7c396fd4830fd04220f754e42b4e5bff   \n",
      "1           2018-08-13 00:00:00  af07308b275d755c9edb36a90c618231   \n",
      "2           2018-09-04 00:00:00  3a653a41f6f9fc3d2a113cf8398680e8   \n",
      "3           2017-12-15 00:00:00  7c142cf63193a1473d2e66489a9ae977   \n",
      "4           2018-02-26 00:00:00  72632f0f9dd73dfee390c9b22eb56dd6   \n",
      "\n",
      "   customer_zip_code_prefix            customer_city customer_state  \\\n",
      "0                      3149                sao paulo             SP   \n",
      "1                     47813                barreiras             BA   \n",
      "2                     75265               vianopolis             GO   \n",
      "3                     59296  sao goncalo do amarante             RN   \n",
      "4                      9195              santo andre             SP   \n",
      "\n",
      "   order_item_id                        product_id  \\\n",
      "0              1  87285b34884572647811a353c7ac498a   \n",
      "1              1  595fac2a385ac33a80bd5114aec74eb8   \n",
      "2              1  aa4383b373c6aca5d8797843e5594415   \n",
      "3              1  d0b61bfb1de832b15ba9d266ca96e5b0   \n",
      "4              1  65266b2da20d04dbe00c5c2d3bb7859e   \n",
      "\n",
      "                          seller_id  shipping_limit_date   price  \\\n",
      "0  3504c0cb71d7fa48d967e0e4c94d59d9  2017-10-06 11:07:15   29.99   \n",
      "1  289cdb325fb7e7f891c38608bf9e0962  2018-07-30 03:24:27  118.70   \n",
      "2  4869f7a5dfa277a7dca6462dcf3b52b2  2018-08-13 08:55:23  159.90   \n",
      "3  66922902710d126a0e7d26b0e3805106  2017-11-23 19:45:59   45.00   \n",
      "4  2c9e548be18521d1c43cde1c582c6de8  2018-02-19 20:31:37   19.90   \n",
      "\n",
      "   freight_value  \n",
      "0           8.72  \n",
      "1          22.76  \n",
      "2          19.22  \n",
      "3          27.20  \n",
      "4           8.72  \n"
     ]
    }
   ],
   "source": [
    "if not orders.empty:\n",
    "    # 1. Merge orders and customers\n",
    "    # This gives us the unique ID for each customer in the orders table\n",
    "    df = orders.merge(customers, on='customer_id')\n",
    "    \n",
    "    # 2. Merge with order_items\n",
    "    # This gives us the price information for each order\n",
    "    df = df.merge(order_items, on='order_id')\n",
    "\n",
    "    print(\"Data merged. DataFrame shape:\", df.shape)\n",
    "    print(df.head())\n",
    "else:\n",
    "    print(\"Skipping processing as dataset was not loaded.\")"
   ]
  },
  {
   "cell_type": "code",
   "execution_count": 12,
   "id": "cb8cc914-44c3-4595-95e0-b71e25b64dbc",
   "metadata": {},
   "outputs": [
    {
     "name": "stdout",
     "output_type": "stream",
     "text": [
      "\n",
      "Cleaned DataFrame:\n",
      "                 customer_unique_id order_purchase_timestamp  total_price\n",
      "0  7c396fd4830fd04220f754e42b4e5bff      2017-10-02 10:56:33        38.71\n",
      "1  af07308b275d755c9edb36a90c618231      2018-07-24 20:41:37       141.46\n",
      "2  3a653a41f6f9fc3d2a113cf8398680e8      2018-08-08 08:38:49       179.12\n",
      "3  7c142cf63193a1473d2e66489a9ae977      2017-11-18 19:28:06        72.20\n",
      "4  72632f0f9dd73dfee390c9b22eb56dd6      2018-02-13 21:18:39        28.62\n",
      "\n",
      "Data ranges from 2016-09-15 12:16:38 to 2018-08-29 15:00:37\n"
     ]
    }
   ],
   "source": [
    "if not df.empty:\n",
    "    # We are interested in customers who actually completed a purchase\n",
    "    df = df[df['order_status'] == 'delivered'].copy()\n",
    "    \n",
    "    # Convert timestamp to datetime object\n",
    "    df['order_purchase_timestamp'] = pd.to_datetime(df['order_purchase_timestamp'])\n",
    "    \n",
    "    # Calculate total price for each item\n",
    "    df['total_price'] = df['price'] + df['freight_value']\n",
    "    \n",
    "    # We only need these columns\n",
    "    df_clean = df[['customer_unique_id', 'order_purchase_timestamp', 'total_price']]\n",
    "    \n",
    "    print(\"\\nCleaned DataFrame:\")\n",
    "    print(df_clean.head())\n",
    "    print(f\"\\nData ranges from {df_clean['order_purchase_timestamp'].min()} to {df_clean['order_purchase_timestamp'].max()}\")"
   ]
  },
  {
   "cell_type": "code",
   "execution_count": null,
   "id": "49920b79-925d-4d2b-b788-af04664db77e",
   "metadata": {},
   "outputs": [],
   "source": []
  },
  {
   "cell_type": "code",
   "execution_count": 14,
   "id": "2969e28d-6657-4499-b0fd-2f36277d1a19",
   "metadata": {},
   "outputs": [
    {
     "name": "stdout",
     "output_type": "stream",
     "text": [
      "\n",
      "Historical data points: 89082\n",
      "Future data points: 21115\n"
     ]
    }
   ],
   "source": [
    "if not df_clean.empty:\n",
    "    # This is the \"present\" day. We build features based on what we know up to this day.\n",
    "    SNAPSHOT_DATE = pd.to_datetime('2018-06-01')\n",
    "    \n",
    "    # --- Historical Data (for Features X) ---\n",
    "    df_historical = df_clean[df_clean['order_purchase_timestamp'] < SNAPSHOT_DATE]\n",
    "    \n",
    "    # --- Future Data (for Target y) ---\n",
    "    df_future = df_clean[df_clean['order_purchase_timestamp'] >= SNAPSHOT_DATE]\n",
    "\n",
    "    print(f\"\\nHistorical data points: {len(df_historical)}\")\n",
    "    print(f\"Future data points: {len(df_future)}\")"
   ]
  },
  {
   "cell_type": "code",
   "execution_count": null,
   "id": "87561285-2489-4c8f-af86-1b766dbc3715",
   "metadata": {},
   "outputs": [],
   "source": []
  },
  {
   "cell_type": "code",
   "execution_count": 16,
   "id": "d349a7d1-f04c-4e8f-b083-d11c05a0dd14",
   "metadata": {},
   "outputs": [
    {
     "name": "stdout",
     "output_type": "stream",
     "text": [
      "\n",
      "Starting feature engineering (RFM)...\n",
      "RFM features (X) created:\n",
      "                 customer_unique_id  frequency  monetary  recency\n",
      "0  0000366f3b9a7992bf8c76cfdf3221e2          1    141.90       21\n",
      "1  0000b849f77a49e4a4ce2b2a4ca5be3f          1     27.19       24\n",
      "2  0000f46a3911fa3c0805444483337064          1     86.22      447\n",
      "3  0000f6ccb0745a6a4b88665a16c9f078          1     43.62      231\n",
      "4  0004aac84e0df4da2b147fca70cf8255          1    196.89      198\n"
     ]
    }
   ],
   "source": [
    "if not df_historical.empty:\n",
    "    print(\"\\nStarting feature engineering (RFM)...\")\n",
    "    \n",
    "    # Aggregate data to customer level\n",
    "    rfm_df = df_historical.groupby('customer_unique_id').agg(\n",
    "        last_purchase_date=('order_purchase_timestamp', 'max'),\n",
    "        frequency=('order_purchase_timestamp', 'count'), # Count of items purchased\n",
    "        monetary=('total_price', 'sum')\n",
    "    ).reset_index()\n",
    "    \n",
    "    # --- Calculate Recency ---\n",
    "    # Days from SNAPSHOT_DATE to their last purchase\n",
    "    rfm_df['recency'] = (SNAPSHOT_DATE - rfm_df['last_purchase_date']).dt.days\n",
    "    \n",
    "    # Drop the date column, we just need the 'recency' number\n",
    "    rfm_df = rfm_df.drop('last_purchase_date', axis=1)\n",
    "\n",
    "    print(\"RFM features (X) created:\")\n",
    "    print(rfm_df.head())"
   ]
  },
  {
   "cell_type": "code",
   "execution_count": 18,
   "id": "c016b23e-8df0-4f05-aa34-cf7880927087",
   "metadata": {},
   "outputs": [
    {
     "name": "stdout",
     "output_type": "stream",
     "text": [
      "\n",
      "Future CLV (y) created:\n",
      "                 customer_unique_id  future_clv\n",
      "0  000e309254ab1fc5ba99dd469d36bdb4       78.42\n",
      "1  000ec5bff359e1c0ad76a81a45cb598f       27.75\n",
      "2  000fbf0473c10fc1ab6f8d2d286ce20c      362.36\n",
      "3  0015752e079902b12cd00b9b7596276b       74.82\n",
      "4  00172711b30d52eea8b313a7f2cced02      122.07\n"
     ]
    }
   ],
   "source": [
    "if not df_future.empty:\n",
    "    # Calculate total spend for each customer in the future window\n",
    "    future_clv_df = df_future.groupby('customer_unique_id').agg(\n",
    "        future_clv=('total_price', 'sum')\n",
    "    ).reset_index()\n",
    "\n",
    "    print(\"\\nFuture CLV (y) created:\")\n",
    "    print(future_clv_df.head())"
   ]
  },
  {
   "cell_type": "code",
   "execution_count": null,
   "id": "8b2cb7ea-0af8-436c-9a40-dab15c1de62e",
   "metadata": {},
   "outputs": [],
   "source": []
  },
  {
   "cell_type": "code",
   "execution_count": 21,
   "id": "a440e7ef-51a1-4027-b468-f7fd64dd1123",
   "metadata": {},
   "outputs": [
    {
     "name": "stdout",
     "output_type": "stream",
     "text": [
      "\n",
      "Final modeling dataframe:\n",
      "                 customer_unique_id  frequency  monetary  recency  future_clv\n",
      "0  0000366f3b9a7992bf8c76cfdf3221e2          1    141.90       21         0.0\n",
      "1  0000b849f77a49e4a4ce2b2a4ca5be3f          1     27.19       24         0.0\n",
      "2  0000f46a3911fa3c0805444483337064          1     86.22      447         0.0\n",
      "3  0000f6ccb0745a6a4b88665a16c9f078          1     43.62      231         0.0\n",
      "4  0004aac84e0df4da2b147fca70cf8255          1    196.89      198         0.0\n",
      "\n",
      "Distribution of Future CLV:\n",
      "count    75387.000000\n",
      "mean         0.888465\n",
      "std         18.109232\n",
      "min          0.000000\n",
      "25%          0.000000\n",
      "50%          0.000000\n",
      "75%          0.000000\n",
      "max       1596.960000\n",
      "Name: future_clv, dtype: float64\n"
     ]
    },
    {
     "data": {
      "image/png": "[encoded data removed]",
      "text/plain": [
       "<Figure size 1000x600 with 1 Axes>"
      ]
     },
     "metadata": {},
     "output_type": "display_data"
    }
   ],
   "source": [
    "if not rfm_df.empty:\n",
    "    # Merge features (X) with the target (y)\n",
    "    final_model_df = rfm_df.merge(future_clv_df, on='customer_unique_id', how='left')\n",
    "    \n",
    "    # Customers who didn't buy in the future window will have NaN\n",
    "    # We must fill this with 0.0\n",
    "    final_model_df['future_clv'] = final_model_df['future_clv'].fillna(0)\n",
    "    \n",
    "    print(\"\\nFinal modeling dataframe:\")\n",
    "    print(final_model_df.head())\n",
    "\n",
    "    # --- Check distribution of our target variable ---\n",
    "    print(\"\\nDistribution of Future CLV:\")\n",
    "    print(final_model_df['future_clv'].describe())\n",
    "    \n",
    "    # Plot the distribution\n",
    "    plt.figure(figsize=(10, 6))\n",
    "    sns.histplot(final_model_df['future_clv'], bins=50, kde=False)\n",
    "    plt.title('Distribution of Future CLV (90-day)')\n",
    "    plt.xlabel('Total Sales')\n",
    "    plt.ylabel('Number of Customers')\n",
    "    plt.show()"
   ]
  },
  {
   "cell_type": "code",
   "execution_count": null,
   "id": "fdb41244-9615-48bb-bf0c-82d0d27afa07",
   "metadata": {},
   "outputs": [],
   "source": []
  },
  {
   "cell_type": "code",
   "execution_count": 23,
   "id": "00cf7383-5194-473c-8b21-94c36745af54",
   "metadata": {},
   "outputs": [
    {
     "name": "stdout",
     "output_type": "stream",
     "text": [
      "\n",
      "--- Training XGBoost Model ---\n",
      "Model training complete.\n"
     ]
    }
   ],
   "source": [
    "if not final_model_df.empty:\n",
    "    # 1. Define X and y\n",
    "    X = final_model_df[['recency', 'frequency', 'monetary']]\n",
    "    y = final_model_df['future_clv']\n",
    "    \n",
    "    # 2. Train-Test Split\n",
    "    X_train, X_test, y_train, y_test = train_test_split(X, y, test_size=0.2, random_state=42)\n",
    "    \n",
    "    # 3. Scale Features\n",
    "    # Scaling is not strictly required for XGBoost, but it's good practice\n",
    "    scaler = StandardScaler()\n",
    "    X_train_scaled = scaler.fit_transform(X_train)\n",
    "    X_test_scaled = scaler.transform(X_test)\n",
    "\n",
    "    # 4. Train XGBoost Regressor\n",
    "    print(\"\\n--- Training XGBoost Model ---\")\n",
    "    xgb = XGBRegressor(objective='reg:squarederror', \n",
    "                         n_estimators=100, \n",
    "                         learning_rate=0.1,\n",
    "                         random_state=42)\n",
    "    \n",
    "    xgb.fit(X_train_scaled, y_train)\n",
    "    print(\"Model training complete.\")"
   ]
  },
  {
   "cell_type": "code",
   "execution_count": null,
   "id": "2bb2305a-5141-432c-87c3-d6760b44fa37",
   "metadata": {},
   "outputs": [],
   "source": []
  },
  {
   "cell_type": "code",
   "execution_count": 25,
   "id": "614467d5-ec3e-47c3-aa1b-6d58675273c4",
   "metadata": {},
   "outputs": [
    {
     "name": "stdout",
     "output_type": "stream",
     "text": [
      "\n",
      "--- Model Evaluation ---\n",
      "Root Mean Squared Error (RMSE): 19.27\n",
      "R-squared (R2): -0.330\n",
      "\n",
      "--- Feature Importance ---\n",
      "     feature  importance\n",
      "2   monetary    0.442815\n",
      "0    recency    0.366186\n",
      "1  frequency    0.190999\n"
     ]
    },
    {
     "data": {
      "image/png": "[encoded data removed]",
      "text/plain": [
       "<Figure size 640x480 with 1 Axes>"
      ]
     },
     "metadata": {},
     "output_type": "display_data"
    }
   ],
   "source": [
    "if 'xgb' in locals():\n",
    "    # 5. Make Predictions\n",
    "    y_pred = xgb.predict(X_test_scaled)\n",
    "    \n",
    "    # 6. Evaluate Model\n",
    "    rmse = np.sqrt(mean_squared_error(y_test, y_pred))\n",
    "    r2 = r2_score(y_test, y_pred)\n",
    "    \n",
    "    print(\"\\n--- Model Evaluation ---\")\n",
    "    print(f\"Root Mean Squared Error (RMSE): {rmse:.2f}\")\n",
    "    print(f\"R-squared (R2): {r2:.3f}\")\n",
    "\n",
    "    # 7. Check Feature Importance\n",
    "    print(\"\\n--- Feature Importance ---\")\n",
    "    importance_df = pd.DataFrame({\n",
    "        'feature': X.columns,\n",
    "        'importance': xgb.feature_importances_\n",
    "    }).sort_values('importance', ascending=False)\n",
    "    \n",
    "    print(importance_df)\n",
    "    \n",
    "    sns.barplot(x='importance', y='feature', data=importance_df)\n",
    "    plt.title('Feature Importance for CLV')\n",
    "    plt.show()"
   ]
  },
  {
   "cell_type": "code",
   "execution_count": null,
   "id": "8bbf4c52-9f44-42f0-9878-775196432f65",
   "metadata": {},
   "outputs": [],
   "source": []
  },
  {
   "cell_type": "code",
   "execution_count": null,
   "id": "ff027287-b336-4ff4-b5d8-de45392b39d2",
   "metadata": {},
   "outputs": [],
   "source": []
  },
  {
   "cell_type": "code",
   "execution_count": null,
   "id": "e080d4ed-8cab-4771-934d-0f227fd47079",
   "metadata": {},
   "outputs": [],
   "source": []
  },
  {
   "cell_type": "code",
   "execution_count": null,
   "id": "53836432-2e08-4074-b76f-7c9021d22c96",
   "metadata": {},
   "outputs": [],
   "source": []
  },
  {
   "cell_type": "code",
   "execution_count": null,
   "id": "62f71385-20e8-4c29-858d-1d3c5e3cf120",
   "metadata": {},
   "outputs": [],
   "source": []
  },
  {
   "cell_type": "code",
   "execution_count": null,
   "id": "80b4cf11-5caf-4cac-9922-f3d6ef4b1d05",
   "metadata": {},
   "outputs": [],
   "source": []
  },
  {
   "cell_type": "code",
   "execution_count": null,
   "id": "22e264f2-2436-414e-b423-8dc777ddd163",
   "metadata": {},
   "outputs": [],
   "source": []
  },
  {
   "cell_type": "code",
   "execution_count": null,
   "id": "c26e4999-083e-4aa5-ade3-eaa017148a1c",
   "metadata": {},
   "outputs": [],
   "source": []
  }
 ],
 "metadata": {
  "kernelspec": {
   "display_name": "Python [conda env:base] *",
   "language": "python",
   "name": "conda-base-py"
  },
  "language_info": {
   "codemirror_mode": {
    "name": "ipython",
    "version": 3
   },
   "file_extension": ".py",
   "mimetype": "text/x-python",
   "name": "python",
   "nbconvert_exporter": "python",
   "pygments_lexer": "ipython3",
   "version": "3.12.3"
  }
 },
 "nbformat": 4,
 "nbformat_minor": 5
}
